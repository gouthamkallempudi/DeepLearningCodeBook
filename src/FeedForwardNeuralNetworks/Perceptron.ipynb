{
  "nbformat": 4,
  "nbformat_minor": 0,
  "metadata": {
    "colab": {
      "name": "Perceptron.ipynb",
      "provenance": [],
      "collapsed_sections": []
    },
    "kernelspec": {
      "name": "python3",
      "display_name": "Python 3"
    },
    "accelerator": "TPU"
  },
  "cells": [
    {
      "cell_type": "code",
      "metadata": {
        "id": "sJ62t7V8LdfW",
        "colab_type": "code",
        "colab": {}
      },
      "source": [
        "import numpy as np\n",
        "from sklearn.model_selection import train_test_split\n",
        "from sklearn.datasets import load_iris\n",
        "import matplotlib.pyplot as plt\n",
        "SEED = 2017"
      ],
      "execution_count": 0,
      "outputs": []
    },
    {
      "cell_type": "code",
      "metadata": {
        "id": "Wuz28iSQPkdC",
        "colab_type": "code",
        "colab": {}
      },
      "source": [
        "# The first two classes (Iris-Setosa and Iris-Versicolour) \n",
        "\n",
        "iris = load_iris()\n",
        "idsx = np.where(iris.target < 2)\n",
        "X = iris.data[idsx]\n",
        "y = iris.target[idsx]"
      ],
      "execution_count": 0,
      "outputs": []
    },
    {
      "cell_type": "code",
      "metadata": {
        "id": "41UWn4YKPldS",
        "colab_type": "code",
        "outputId": "d82aaaf9-6e55-45e5-d087-9a0aca0eca73",
        "colab": {
          "base_uri": "https://localhost:8080/",
          "height": 295
        }
      },
      "source": [
        "#Plot between sepal length and width\n",
        "\n",
        "plt.scatter(X[y==0][: , 0] , X[y==0][:,2] , color = 'green' , label = 'Iris sertosa')\n",
        "plt.scatter(X[y==1][: , 0] , X[y==1][:,2] , color = 'red' , label = 'Iris versicolor')\n",
        "plt.title('Iris Plants Database')\n",
        "plt.xlabel('sepal length in cm')\n",
        "plt.ylabel('sepal width in cm')\n",
        "plt.legend()\n",
        "plt.show()\n"
      ],
      "execution_count": 0,
      "outputs": [
        {
          "output_type": "display_data",
          "data": {
            "image/png": "[encoded data removed]",
            "text/plain": [
              "<Figure size 432x288 with 1 Axes>"
            ]
          },
          "metadata": {
            "tags": []
          }
        }
      ]
    },
    {
      "cell_type": "code",
      "metadata": {
        "id": "rLpzSoALPlaM",
        "colab_type": "code",
        "colab": {}
      },
      "source": [
        "#split the training data\n",
        "\n",
        "X_train , X_val, y_train, y_val = train_test_split(X, y, test_size=0.2 )"
      ],
      "execution_count": 0,
      "outputs": []
    },
    {
      "cell_type": "code",
      "metadata": {
        "id": "OFDlJ1KXPlW9",
        "colab_type": "code",
        "colab": {}
      },
      "source": [
        "weights = np.random.normal(size = X_train.shape[1])"
      ],
      "execution_count": 0,
      "outputs": []
    },
    {
      "cell_type": "code",
      "metadata": {
        "id": "VO8qfsjgPlUR",
        "colab_type": "code",
        "outputId": "313651cb-7734-4dc1-ba34-6f54b362f911",
        "colab": {
          "base_uri": "https://localhost:8080/",
          "height": 34
        }
      },
      "source": [
        "weights"
      ],
      "execution_count": 0,
      "outputs": [
        {
          "output_type": "execute_result",
          "data": {
            "text/plain": [
              "array([-0.88263157, -2.19049853, -0.45304146, -0.12302244])"
            ]
          },
          "metadata": {
            "tags": []
          },
          "execution_count": 34
        }
      ]
    },
    {
      "cell_type": "code",
      "metadata": {
        "id": "LJw6ItF9PlRy",
        "colab_type": "code",
        "colab": {}
      },
      "source": [
        "bias = 1\n",
        "learning_rate = 0.1\n",
        "n_epochs = 15"
      ],
      "execution_count": 0,
      "outputs": []
    },
    {
      "cell_type": "code",
      "metadata": {
        "id": "UcjO5NkSPlPW",
        "colab_type": "code",
        "colab": {}
      },
      "source": [
        "del_w = np.zeros(weights.shape)\n",
        "hint_loss = []\n",
        "hist_accuracy = []\n",
        "\n",
        "\n",
        "for i in range(n_epochs):\n",
        "  output = np.where((X_train.dot(weights) + bias) > 0.5 , 1,0)\n",
        "  error = np.mean((y_train - output)**2)\n",
        "\n",
        "  weights-= learning_rate * np.dot((output - y_train) , X_train)\n",
        "  bias += learning_rate * np.sum(np.dot((output - y_train) , X_train))\n",
        "\n",
        "  loss = np.mean((output - y_train)**2)\n",
        "  hint_loss.append(loss)\n",
        "\n",
        "  output_val = np.where(X_val.dot(weights)>0.5, 1, 0)\n",
        "  accuracy = np.mean(np.where(y_val==output_val, 1, 0))\n",
        "  hist_accuracy.append(accuracy)"
      ],
      "execution_count": 0,
      "outputs": []
    },
    {
      "cell_type": "code",
      "metadata": {
        "id": "9M2bFwQxPlMr",
        "colab_type": "code",
        "outputId": "e379b422-2525-4a62-9e58-7f65e6574da1",
        "colab": {
          "base_uri": "https://localhost:8080/",
          "height": 295
        }
      },
      "source": [
        "fig = plt.figure(figsize=(8,4))\n",
        "a = fig.add_subplot(1,2,1)\n",
        "\n",
        "imgplot = plt.plot(hint_loss)\n",
        "plt.xlabel('epochs')\n",
        "a.set_title('Training loss')\n",
        "\n",
        "a=fig.add_subplot(1,2,2)\n",
        "imgplot = plt.plot(hist_accuracy)\n",
        "plt.xlabel('epochs')\n",
        "a.set_title('Validation Accuracy')\n",
        "plt.show()\n"
      ],
      "execution_count": 0,
      "outputs": [
        {
          "output_type": "display_data",
          "data": {
            "image/png": "[encoded data removed]",
            "text/plain": [
              "<Figure size 576x288 with 2 Axes>"
            ]
          },
          "metadata": {
            "tags": []
          }
        }
      ]
    }
  ]
}