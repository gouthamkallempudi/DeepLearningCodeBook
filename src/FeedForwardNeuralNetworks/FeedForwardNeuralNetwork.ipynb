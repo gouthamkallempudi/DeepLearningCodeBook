{
  "nbformat": 4,
  "nbformat_minor": 0,
  "metadata": {
    "colab": {
      "name": "FeedForwardNeuralNetwork.ipynb",
      "provenance": [],
      "collapsed_sections": []
    },
    "kernelspec": {
      "name": "python3",
      "display_name": "Python 3"
    },
    "accelerator": "TPU"
  },
  "cells": [
    {
      "cell_type": "code",
      "metadata": {
        "id": "Zdq3bkT7j88Z",
        "colab_type": "code",
        "colab": {}
      },
      "source": [
        "import numpy as np\n",
        "from sklearn.model_selection import train_test_split\n",
        "import matplotlib.pyplot as plt\n",
        "from sklearn.datasets import make_circles\n",
        "\n",
        "SEED = 2020"
      ],
      "execution_count": 0,
      "outputs": []
    },
    {
      "cell_type": "code",
      "metadata": {
        "id": "uIFs1Jfdkoxz",
        "colab_type": "code",
        "colab": {}
      },
      "source": [
        "X,y = make_circles(n_samples=400 , factor=.3 , noise = .05 ,random_state= 2017)\n",
        "\n",
        "outer = y == 0\n",
        "inner = y == 1"
      ],
      "execution_count": 0,
      "outputs": []
    },
    {
      "cell_type": "code",
      "metadata": {
        "id": "M_815sQuko06",
        "colab_type": "code",
        "outputId": "b042d09c-cd56-429d-e8fc-bb2252b90ab0",
        "colab": {
          "base_uri": "https://localhost:8080/",
          "height": 281
        }
      },
      "source": [
        "plt.title(\"Two circles\")\n",
        "plt.plot(X[outer , 0] , X[outer , 1] , \"ro\")\n",
        "plt.plot(X[inner , 0] , X[inner , 1] , \"bo\")\n",
        "plt.show()"
      ],
      "execution_count": 0,
      "outputs": [
        {
          "output_type": "display_data",
          "data": {
            "image/png": "[encoded data removed]",
            "text/plain": [
              "<Figure size 432x288 with 1 Axes>"
            ]
          },
          "metadata": {
            "tags": []
          }
        }
      ]
    },
    {
      "cell_type": "code",
      "metadata": {
        "id": "oCv6JiTHko2g",
        "colab_type": "code",
        "colab": {}
      },
      "source": [
        "#Normalize such that center of both the circles is one\n",
        "X = X + 1"
      ],
      "execution_count": 0,
      "outputs": []
    },
    {
      "cell_type": "code",
      "metadata": {
        "id": "MP0Ci1LIko59",
        "colab_type": "code",
        "outputId": "fada91d6-5c14-4ce6-b246-e481d662beb8",
        "colab": {
          "base_uri": "https://localhost:8080/",
          "height": 281
        }
      },
      "source": [
        "plt.title(\"Two circles\")\n",
        "plt.plot(X[outer , 0] , X[outer , 1] , \"ro\")\n",
        "plt.plot(X[inner , 0] , X[inner , 1] , \"bo\")\n",
        "plt.show()"
      ],
      "execution_count": 0,
      "outputs": [
        {
          "output_type": "display_data",
          "data": {
            "image/png": "[encoded data removed]",
            "text/plain": [
              "<Figure size 432x288 with 1 Axes>"
            ]
          },
          "metadata": {
            "tags": []
          }
        }
      ]
    },
    {
      "cell_type": "code",
      "metadata": {
        "id": "sITJgGZclIgT",
        "colab_type": "code",
        "outputId": "9786ab3e-8eb1-4d8a-8a83-378a019bcfa3",
        "colab": {
          "base_uri": "https://localhost:8080/",
          "height": 34
        }
      },
      "source": [
        "X.shape"
      ],
      "execution_count": 0,
      "outputs": [
        {
          "output_type": "execute_result",
          "data": {
            "text/plain": [
              "(400, 2)"
            ]
          },
          "metadata": {
            "tags": []
          },
          "execution_count": 64
        }
      ]
    },
    {
      "cell_type": "code",
      "metadata": {
        "id": "IGzlPqa3ko7U",
        "colab_type": "code",
        "colab": {}
      },
      "source": [
        "X_train, X_val, y_train, y_val = train_test_split(X, y, test_size=0.2, random_state=SEED)"
      ],
      "execution_count": 0,
      "outputs": []
    },
    {
      "cell_type": "code",
      "metadata": {
        "id": "eCdK47-Pko-q",
        "colab_type": "code",
        "colab": {}
      },
      "source": [
        "# sigmoid function\n",
        "\n",
        "def sigmoid(x):\n",
        "  return 1/(1 + np.exp(-x))\n"
      ],
      "execution_count": 0,
      "outputs": []
    },
    {
      "cell_type": "code",
      "metadata": {
        "id": "M8s7LfaWkpBr",
        "colab_type": "code",
        "colab": {}
      },
      "source": [
        "# hyperparameters \n",
        "\n",
        "n_hidden = 50\n",
        "n_epochs = 1000\n",
        "learning_rate = 1"
      ],
      "execution_count": 0,
      "outputs": []
    },
    {
      "cell_type": "code",
      "metadata": {
        "id": "cfw6YvAfo95c",
        "colab_type": "code",
        "outputId": "6b9f6912-f4a6-478f-9bd7-c06a7a2f0db0",
        "colab": {
          "base_uri": "https://localhost:8080/",
          "height": 34
        }
      },
      "source": [
        "X_train.shape"
      ],
      "execution_count": 0,
      "outputs": [
        {
          "output_type": "execute_result",
          "data": {
            "text/plain": [
              "(320, 2)"
            ]
          },
          "metadata": {
            "tags": []
          },
          "execution_count": 68
        }
      ]
    },
    {
      "cell_type": "code",
      "metadata": {
        "id": "_5cqSHfqkov7",
        "colab_type": "code",
        "colab": {}
      },
      "source": [
        "# Initialize weights\n",
        "\n",
        "weights_hidden = np.random.normal(0.0 , size = (X_train.shape[1] , n_hidden))\n",
        "weights_output = np.random.normal(0.0 , size = (n_hidden))\n",
        "\n",
        "hist_loss = []\n",
        "hist_accuracy = []"
      ],
      "execution_count": 0,
      "outputs": []
    },
    {
      "cell_type": "code",
      "metadata": {
        "id": "8X4lAyJZpb8D",
        "colab_type": "code",
        "outputId": "2704dd93-49e1-46d4-b1b1-1bab6aa28608",
        "colab": {
          "base_uri": "https://localhost:8080/",
          "height": 68
        }
      },
      "source": [
        "print(weights_hidden.shape)\n",
        "print(weights_output.shape)\n",
        "print(X_train.shape)"
      ],
      "execution_count": 0,
      "outputs": [
        {
          "output_type": "stream",
          "text": [
            "(2, 50)\n",
            "(50,)\n",
            "(320, 2)\n"
          ],
          "name": "stdout"
        }
      ]
    },
    {
      "cell_type": "code",
      "metadata": {
        "id": "vlwVb6FXpb_O",
        "colab_type": "code",
        "outputId": "3d09cf48-6271-47ab-a171-2f7cc87245fb",
        "colab": {
          "base_uri": "https://localhost:8080/",
          "height": 187
        }
      },
      "source": [
        "for e in range(n_epochs):\n",
        "    del_w_hidden = np.zeros(weights_hidden.shape)\n",
        "    del_w_output = np.zeros(weights_output.shape)\n",
        "\n",
        "    # Loop through training data in batches of 1\n",
        "    for x_, y_ in zip(X_train, y_train):\n",
        "        # Forward computations\n",
        "        hidden_input = np.dot(x_, weights_hidden)\n",
        "        hidden_output = sigmoid(hidden_input)\n",
        "        output = sigmoid(np.dot(hidden_output, weights_output))\n",
        "\n",
        "        # Backward computations\n",
        "        error = y_ - output\n",
        "        output_error = error * output * (1 - output)\n",
        "        hidden_error = np.dot(output_error, weights_output) * hidden_output * (1 - hidden_output)\n",
        "        del_w_output += output_error * hidden_output\n",
        "        del_w_hidden += hidden_error * x_[:, None]\n",
        "\n",
        "    # Update weights\n",
        "    weights_hidden += learning_rate * del_w_hidden / X_train.shape[0]\n",
        "    weights_output += learning_rate * del_w_output / X_train.shape[0]\n",
        "\n",
        "    # Print stats (validation loss and accuracy)\n",
        "    if e % 100 == 0:\n",
        "        hidden_output = sigmoid(np.dot(X_val, weights_hidden))\n",
        "        out = sigmoid(np.dot(hidden_output, weights_output))\n",
        "        loss = np.mean((out - y_val) ** 2)\n",
        "        # Final prediction is based on a threshold of 0.5\n",
        "        predictions = out > 0.5\n",
        "        accuracy = np.mean(predictions == y_val)\n",
        "        print(\"Epoch: \", '{:>4}'.format(e), \n",
        "            \"; Validation loss: \", '{:>6}'.format(loss.round(4)), \n",
        "            \"; Validation accuracy: \", '{:>6}'.format(accuracy.round(4)))"
      ],
      "execution_count": 0,
      "outputs": [
        {
          "output_type": "stream",
          "text": [
            "Epoch:     0 ; Validation loss:  0.5236 ; Validation accuracy:  0.4625\n",
            "Epoch:   100 ; Validation loss:  0.2208 ; Validation accuracy:     0.8\n",
            "Epoch:   200 ; Validation loss:  0.1953 ; Validation accuracy:    0.85\n",
            "Epoch:   300 ; Validation loss:  0.1691 ; Validation accuracy:   0.975\n",
            "Epoch:   400 ; Validation loss:  0.1379 ; Validation accuracy:     1.0\n",
            "Epoch:   500 ; Validation loss:  0.1097 ; Validation accuracy:     1.0\n",
            "Epoch:   600 ; Validation loss:  0.0892 ; Validation accuracy:     1.0\n",
            "Epoch:   700 ; Validation loss:   0.075 ; Validation accuracy:     1.0\n",
            "Epoch:   800 ; Validation loss:  0.0648 ; Validation accuracy:     1.0\n",
            "Epoch:   900 ; Validation loss:  0.0572 ; Validation accuracy:     1.0\n"
          ],
          "name": "stdout"
        }
      ]
    },
    {
      "cell_type": "code",
      "metadata": {
        "id": "WtsbsRfXpcEK",
        "colab_type": "code",
        "colab": {}
      },
      "source": [
        ""
      ],
      "execution_count": 0,
      "outputs": []
    },
    {
      "cell_type": "code",
      "metadata": {
        "id": "cTHQl5zWpcGP",
        "colab_type": "code",
        "colab": {}
      },
      "source": [
        ""
      ],
      "execution_count": 0,
      "outputs": []
    },
    {
      "cell_type": "code",
      "metadata": {
        "id": "ry8cSx-cpcJw",
        "colab_type": "code",
        "colab": {}
      },
      "source": [
        ""
      ],
      "execution_count": 0,
      "outputs": []
    },
    {
      "cell_type": "code",
      "metadata": {
        "id": "Jbkmi1L5pb6N",
        "colab_type": "code",
        "colab": {}
      },
      "source": [
        ""
      ],
      "execution_count": 0,
      "outputs": []
    }
  ]
}